{
 "cells": [
  {
   "cell_type": "markdown",
   "metadata": {},
   "source": [
    "# Fibonacci 数列"
   ]
  },
  {
   "cell_type": "code",
   "execution_count": null,
   "metadata": {},
   "outputs": [],
   "source": [
    "import math"
   ]
  },
  {
   "cell_type": "markdown",
   "metadata": {},
   "source": [
    "$$\n",
    "\\begin{aligned}\n",
    "f_{n+2}&=f_{n+1}+f_n\\\\\n",
    "f_0&=0\\\\\n",
    "f_1&=0\n",
    "\\end{aligned}\n",
    "$$\n"
   ]
  },
  {
   "cell_type": "code",
   "execution_count": null,
   "metadata": {},
   "outputs": [],
   "source": [
    "def fibonacci(n:int) -> int:\n",
    "    \"\"\"\n",
    "    Fibonacci series by recursion\n",
    "    \"\"\"\n",
    "    if n < 0:\n",
    "        raise ValueError('argument must be positive')\n",
    "    if n == 0:\n",
    "        return 0\n",
    "    if n == 1:\n",
    "        return 1\n",
    "    return fibonacci(n-1) + fibonacci(n-2)"
   ]
  },
  {
   "cell_type": "markdown",
   "metadata": {},
   "source": [
    "$$\n",
    "f_n=\n",
    "\\frac{1}{\\sqrt{5}}\n",
    "\\left(\n",
    "    \\frac{1+\\sqrt{5}}{2}\n",
    "\\right)^n\n",
    "-\n",
    "\\frac{1}{\\sqrt{5}}\n",
    "\\left(\n",
    "    \\frac{1-\\sqrt{5}}{2}\n",
    "\\right)^n\n",
    "\n",
    "$$"
   ]
  },
  {
   "cell_type": "code",
   "execution_count": null,
   "metadata": {},
   "outputs": [],
   "source": [
    "def fibonacci2(n:int) -> int:\n",
    "    \"\"\"\n",
    "    Fibonacci series by explicit form\n",
    "    \"\"\"\n",
    "    a = math.sqrt(5)\n",
    "    x = (1./a)*math.pow((1+a)/2,n)\n",
    "    y = (1./a)*math.pow((1-a)/2,n)\n",
    "    return round(x - y)"
   ]
  },
  {
   "cell_type": "code",
   "execution_count": null,
   "metadata": {},
   "outputs": [],
   "source": [
    "for i in range(20):\n",
    "    v = fibonacci(i)\n",
    "    w = fibonacci2(i)\n",
    "    print(f'f({i}) = {v} : {w}')"
   ]
  }
 ],
 "metadata": {
  "interpreter": {
   "hash": "4c10d60f63ffa9ded96c96834d8a204a627de08b4895130671ea0b4e41d4e100"
  },
  "kernelspec": {
   "display_name": "Python 3.9.4 64-bit ('3.9.4': pyenv)",
   "name": "python3"
  },
  "language_info": {
   "codemirror_mode": {
    "name": "ipython",
    "version": 3
   },
   "file_extension": ".py",
   "mimetype": "text/x-python",
   "name": "python",
   "nbconvert_exporter": "python",
   "pygments_lexer": "ipython3",
   "version": "3.10.8"
  },
  "orig_nbformat": 4
 },
 "nbformat": 4,
 "nbformat_minor": 2
}
