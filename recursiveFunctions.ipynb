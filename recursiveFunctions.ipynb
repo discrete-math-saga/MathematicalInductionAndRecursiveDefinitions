{
 "cells": [
  {
   "attachments": {},
   "cell_type": "markdown",
   "metadata": {},
   "source": [
    "# 再帰的関数"
   ]
  },
  {
   "cell_type": "code",
   "execution_count": null,
   "metadata": {},
   "outputs": [],
   "source": [
    "import math"
   ]
  },
  {
   "attachments": {},
   "cell_type": "markdown",
   "metadata": {},
   "source": [
    "# 階乗\n",
    "\n",
    "$$\n",
    "n!=\n",
    "\\begin{cases}\n",
    "n\\times(n-1)!&n>0\\\\\n",
    "1&n=0 \n",
    "\\end{cases}\n",
    "$$"
   ]
  },
  {
   "cell_type": "code",
   "execution_count": null,
   "metadata": {},
   "outputs": [],
   "source": [
    "def factorial(n:int) -> int:\n",
    "    \"\"\"\n",
    "    階乗\n",
    "\n",
    "    Parameters\n",
    "    ------\n",
    "    n : 負でない整数\n",
    "    \"\"\"\n",
    "    if n < 0:\n",
    "        raise Exception(f'Argument must not be negative')\n",
    "    if n == 0:\n",
    "        return 1\n",
    "    return n * factorial(n-1)\n",
    "\n",
    "factorial(5)"
   ]
  },
  {
   "attachments": {},
   "cell_type": "markdown",
   "metadata": {},
   "source": [
    "## 二項係数\n",
    "$$\n",
    "\\begin{pmatrix}n\\\\ r\\end{pmatrix}\n",
    "=\\begin{pmatrix}n-1\\\\ r-1\\end{pmatrix}\n",
    "+\\begin{pmatrix}n-1\\\\ r\\end{pmatrix}\n",
    "$$\n",
    "$$\n",
    "\\begin{pmatrix}n\\\\0\\end{pmatrix}=\n",
    "\\begin{pmatrix}n\\\\ n\\end{pmatrix}=1\n",
    "$$"
   ]
  },
  {
   "cell_type": "code",
   "execution_count": null,
   "metadata": {},
   "outputs": [],
   "source": [
    "def binomial(n:int, r:int) -> int:\n",
    "    \"\"\"\n",
    "    二項係数\n",
    "\n",
    "    Parameters\n",
    "    --------\n",
    "    n, r: n>=r>=0である整数\n",
    "    \"\"\"\n",
    "    if n < 0 or r < 0 or n < r:\n",
    "        raise Exception('引数の値が正しくありません')\n",
    "    if r == 0 or r == n:\n",
    "        return 1\n",
    "    return binomial(n-1, r-1) + binomial(n-1, r)\n",
    "\n",
    "binomial(5,3)"
   ]
  }
 ],
 "metadata": {
  "interpreter": {
   "hash": "63fd5069d213b44bf678585dea6b12cceca9941eaf7f819626cde1f2670de90d"
  },
  "kernelspec": {
   "display_name": "Python 3.9.6 64-bit",
   "name": "python3"
  },
  "language_info": {
   "codemirror_mode": {
    "name": "ipython",
    "version": 3
   },
   "file_extension": ".py",
   "mimetype": "text/x-python",
   "name": "python",
   "nbconvert_exporter": "python",
   "pygments_lexer": "ipython3",
   "version": "3.10.8"
  },
  "orig_nbformat": 2
 },
 "nbformat": 4,
 "nbformat_minor": 2
}
