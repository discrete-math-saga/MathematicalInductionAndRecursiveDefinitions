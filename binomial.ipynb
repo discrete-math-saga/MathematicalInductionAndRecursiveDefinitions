{
 "cells": [
  {
   "cell_type": "code",
   "execution_count": null,
   "metadata": {},
   "outputs": [],
   "source": [
    "def binomial(n:int ,k:int) -> int:\n",
    "    \"\"\"\n",
    "    Binomial Coefficient\n",
    "    \"\"\"\n",
    "    if (k == 0) or (k == n):\n",
    "        return 1\n",
    "    return binomial(n-1, k-1) + binomial(n-1, k)"
   ]
  },
  {
   "cell_type": "code",
   "execution_count": null,
   "metadata": {
    "tags": []
   },
   "outputs": [],
   "source": [
    "n = 4\n",
    "k = 2\n",
    "v = binomial(n,k)\n",
    "m = f'C({n},{k})={v}'\n",
    "print(m)"
   ]
  },
  {
   "cell_type": "code",
   "execution_count": null,
   "metadata": {},
   "outputs": [],
   "source": []
  }
 ],
 "metadata": {
  "kernelspec": {
   "display_name": "Python 3.7.8 64-bit",
   "name": "python_defaultSpec_1597651677260"
  },
  "language_info": {
   "codemirror_mode": {
    "name": "ipython",
    "version": 3
   },
   "file_extension": ".py",
   "mimetype": "text/x-python",
   "name": "python",
   "nbconvert_exporter": "python",
   "pygments_lexer": "ipython3",
   "version": "3.7.8-final"
  },
  "orig_nbformat": 2
 },
 "nbformat": 4,
 "nbformat_minor": 2
}
