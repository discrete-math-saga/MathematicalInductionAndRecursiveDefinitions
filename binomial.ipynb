{
 "cells": [
  {
   "cell_type": "code",
   "execution_count": null,
   "metadata": {},
   "outputs": [],
   "source": [
    "def binomial(n:int, r:int) -> int:\n",
    "    \"\"\"\n",
    "    二項係数\n",
    "\n",
    "    Parameters\n",
    "    --------\n",
    "    n, r: n>=r>=0である整数\n",
    "    \"\"\"\n",
    "    if n < 0 or r < 0 or n < r:\n",
    "        raise Exception('引数の値が正しくありません')\n",
    "    if r == 0 or r == n:\n",
    "        return 1\n",
    "    return binomial(n-1, r-1) + binomial(n-1, r)"
   ]
  },
  {
   "cell_type": "code",
   "execution_count": null,
   "metadata": {},
   "outputs": [],
   "source": [
    "n = 4\n",
    "k = 2\n",
    "v = binomial(n,k)\n",
    "m = f'C({n},{k})={v}'\n",
    "print(m)"
   ]
  }
 ],
 "metadata": {
  "kernelspec": {
   "display_name": "myenv",
   "language": "python",
   "name": "python3"
  },
  "language_info": {
   "codemirror_mode": {
    "name": "ipython",
    "version": 3
   },
   "file_extension": ".py",
   "mimetype": "text/x-python",
   "name": "python",
   "nbconvert_exporter": "python",
   "pygments_lexer": "ipython3",
   "version": "3.10.8"
  },
  "orig_nbformat": 4
 },
 "nbformat": 4,
 "nbformat_minor": 2
}
